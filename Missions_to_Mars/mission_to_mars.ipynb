{
 "metadata": {
  "language_info": {
   "codemirror_mode": {
    "name": "ipython",
    "version": 3
   },
   "file_extension": ".py",
   "mimetype": "text/x-python",
   "name": "python",
   "nbconvert_exporter": "python",
   "pygments_lexer": "ipython3",
   "version": "3.7.6-final"
  },
  "orig_nbformat": 2,
  "kernelspec": {
   "name": "python_defaultSpec_1598188432710",
   "display_name": "Python 3.7.6 64-bit ('base': conda)"
  }
 },
 "nbformat": 4,
 "nbformat_minor": 2,
 "cells": [
  {
   "cell_type": "code",
   "execution_count": 10,
   "metadata": {
    "tags": []
   },
   "outputs": [
    {
     "output_type": "stream",
     "name": "stderr",
     "text": "[WDM] - Current google-chrome version is 84.0.4147\n[WDM] - Get LATEST driver version for 84.0.4147\n[WDM] - Driver [C:\\Users\\kirst\\.wdm\\drivers\\chromedriver\\win32\\84.0.4147.30\\chromedriver.exe] found in cache\n \n"
    }
   ],
   "source": [
    "# Dependencies\n",
    "from bs4 import BeautifulSoup as bs\n",
    "import requests\n",
    "from splinter import Browser\n",
    "import time\n",
    "from webdriver_manager.chrome import ChromeDriverManager\n",
    "\n",
    "# Set up browser \n",
    "executable_path = {'executable_path':ChromeDriverManager().install()}\n",
    "browser = Browser(\"chrome\", **executable_path, headless=False)"
   ]
  },
  {
   "cell_type": "code",
   "execution_count": 11,
   "metadata": {},
   "outputs": [],
   "source": [
    "# URL of page to be scraped\n",
    "nasa = \"https://mars.nasa.gov/news/\""
   ]
  },
  {
   "cell_type": "code",
   "execution_count": 12,
   "metadata": {},
   "outputs": [],
   "source": [
    "# Retrieve page with the requests module\n",
    "response = requests.get(nasa)"
   ]
  },
  {
   "cell_type": "code",
   "execution_count": 13,
   "metadata": {},
   "outputs": [],
   "source": [
    "# Create BeautifulSoup object; parse with 'html.parser'\n",
    "soup = bs(response.text, 'html.parser')"
   ]
  },
  {
   "cell_type": "code",
   "execution_count": 14,
   "metadata": {
    "tags": [
     "outputPrepend"
    ]
   },
   "outputs": [
    {
     "output_type": "stream",
     "name": "stdout",
     "text": ";gallery_subnav_link&quot;:&quot;https://mars.nasa.gov/odyssey/&quot;}],&quot;search&quot;:true,&quot;search_placeholder&quot;:{&quot;placeholder&quot;:&quot;&quot;},&quot;highlight_current&quot;:{&quot;highlight&quot;:true,&quot;current_id&quot;:83,&quot;parent_ids&quot;:[]},&quot;search_submit&quot;:&quot;/search/&quot;}\">\n         </nav>\n        </div>\n       </div>\n      </div>\n     </header>\n    </div>\n    <div id=\"sticky_nav_spacer\">\n    </div>\n    <div id=\"page\">\n     <div class=\"page_cover\">\n     </div>\n     <!-- title to go in the page_header -->\n     <div class=\"header_mask\">\n      <section class=\"content_page module\">\n      </section>\n     </div>\n     <div class=\"grid_list_page module content_page\">\n      <div class=\"grid_layout\">\n       <article>\n        <header id=\"page_header\">\n        </header>\n        <div class=\"react_grid_list grid_list_container\" data-react-cache-id=\"GridListPage-0\" data-react-class=\"GridListPage\" data-react-props='{\"left_column\":false,\"class_name\":\"\",\"default_view\":\"list_view\",\"model\":\"news_items\",\"view_toggle\":false,\"search\":\"true\",\"list_item\":\"News\",\"title\":\"News\",\"categories\":[\"19,165,184,204\"],\"order\":\"publish_date desc,created_at desc\",\"no_items_text\":\"There are no items matching these criteria.\",\"site_title\":\"NASA’s Mars Exploration Program \",\"short_title\":\"Mars\",\"site_share_image\":\"/system/site_config_values/meta_share_images/1_mars-nasa-gov.jpg\",\"per_page\":null,\"filters\":\"[ [ \\\"date\\\", [ [ \\\"2020\\\", \\\"2020\\\" ], [ \\\"2019\\\", \\\"2019\\\" ], [ \\\"2018\\\", \\\"2018\\\" ], [ \\\"2017\\\", \\\"2017\\\" ], [ \\\"2016\\\", \\\"2016\\\" ], [ \\\"2015\\\", \\\"2015\\\" ], [ \\\"2014\\\", \\\"2014\\\" ], [ \\\"2013\\\", \\\"2013\\\" ], [ \\\"2012\\\", \\\"2012\\\" ], [ \\\"2011\\\", \\\"2011\\\" ], [ \\\"2010\\\", \\\"2010\\\" ], [ \\\"2009\\\", \\\"2009\\\" ], [ \\\"2008\\\", \\\"2008\\\" ], [ \\\"2007\\\", \\\"2007\\\" ], [ \\\"2006\\\", \\\"2006\\\" ], [ \\\"2005\\\", \\\"2005\\\" ], [ \\\"2004\\\", \\\"2004\\\" ], [ \\\"2003\\\", \\\"2003\\\" ], [ \\\"2002\\\", \\\"2002\\\" ], [ \\\"2001\\\", \\\"2001\\\" ], [ \\\"2000\\\", \\\"2000\\\" ] ], [ \\\"Latest\\\", \\\"\\\" ], false ], [ \\\"categories\\\", [ [ \\\"Feature Stories\\\", 165 ], [ \\\"Press Releases\\\", 19 ], [ \\\"Spotlights\\\", 184 ], [ \\\"Status Reports\\\", 204 ] ], [ \\\"All Categories\\\", \\\"\\\" ], false ] ]\",\"conditions\":null,\"scope_in_title\":true,\"options\":{\"blank_scope\":\"Latest\"},\"results_in_title\":false}'>\n        </div>\n       </article>\n      </div>\n     </div>\n     <section class=\"module suggested_features\">\n      <div class=\"grid_layout\">\n       <header>\n        <h2 class=\"module_title\">\n         You Might Also Like\n        </h2>\n       </header>\n       <section>\n        <script>\n         $(document).ready(function(){\n    $(\".features\").slick({\n      dots: false,\n      infinite: true,\n      speed: 300,\n      slide: '.features .slide',\n      slidesToShow: 3,\n      slidesToScroll: 3,\n      lazyLoad: 'ondemand',\n      centerMode: false,\n      arrows: true,\n      appendArrows: '.features .slick-nav',\n      appendDots: \".features .slick-nav\",\n      responsive: [{\"breakpoint\":953,\"settings\":{\"slidesToShow\":2,\"slidesToScroll\":2,\"centerMode\":false}},{\"breakpoint\":480,\"settings\":{\"slidesToShow\":1,\"slidesToScroll\":1,\"centerMode\":true,\"arrows\":false,\"centerPadding\":\"25px\"}}]\n    });\n  });\n        </script>\n        <div class=\"features\">\n         <div class=\"slide\">\n          <div class=\"image_and_description_container\">\n           <a href=\"/news/8716/nasa-to-broadcast-mars-2020-perseverance-launch-prelaunch-activities/\">\n            <div class=\"rollover_description\">\n             <div class=\"rollover_description_inner\">\n              Starting July 27, news activities will cover everything from mission engineering and science to returning samples from Mars to, of course, the launch itself.\n             </div>\n             <div class=\"overlay_arrow\">\n              <img alt=\"More\" src=\"/assets/overlay-arrow.png\"/>\n             </div>\n            </div>\n            <img alt=\"NASA to Broadcast Mars 2020 Perseverance Launch, Prelaunch Activities\" class=\"img-lazy\" data-lazy=\"/system/news_items/list_view_images/8716_PIA23499-320x240.jpg\" src=\"/assets/loading_320x240.png\"/>\n           </a>\n          </div>\n          <div class=\"content_title\">\n           <a href=\"/news/8716/nasa-to-broadcast-mars-2020-perseverance-launch-prelaunch-activities/\">\n            NASA to Broadcast Mars 2020 Perseverance Launch, Prelaunch Activities\n           </a>\n          </div>\n         </div>\n         <div class=\"slide\">\n          <div class=\"image_and_description_container\">\n           <a href=\"/news/8695/the-launch-is-approaching-for-nasas-next-mars-rover-perseverance/\">\n            <div class=\"rollover_description\">\n             <div class=\"rollover_description_inner\">\n              The Red Planet's surface has been visited by eight NASA spacecraft. The ninth will be the first that includes a roundtrip ticket in its flight plan.\n             </div>\n             <div class=\"overlay_arrow\">\n              <img alt=\"More\" src=\"/assets/overlay-arrow.png\"/>\n             </div>\n            </div>\n            <img alt=\"The Launch Is Approaching for NASA's Next Mars Rover, Perseverance\" class=\"img-lazy\" data-lazy=\"/system/news_items/list_view_images/8695_24732_PIA23499-226.jpg\" src=\"/assets/loading_320x240.png\"/>\n           </a>\n          </div>\n          <div class=\"content_title\">\n           <a href=\"/news/8695/the-launch-is-approaching-for-nasas-next-mars-rover-perseverance/\">\n            The Launch Is Approaching for NASA's Next Mars Rover, Perseverance\n           </a>\n          </div>\n         </div>\n         <div class=\"slide\">\n          <div class=\"image_and_description_container\">\n           <a href=\"/news/8692/nasa-to-hold-mars-2020-perseverance-rover-launch-briefing/\">\n            <div class=\"rollover_description\">\n             <div class=\"rollover_description_inner\">\n              Learn more about the agency's next Red Planet mission during a live event on June 17.\n             </div>\n             <div class=\"overlay_arrow\">\n              <img alt=\"More\" src=\"/assets/overlay-arrow.png\"/>\n             </div>\n            </div>\n            <img alt=\"NASA to Hold Mars 2020 Perseverance Rover Launch Briefing\" class=\"img-lazy\" data-lazy=\"/system/news_items/list_view_images/8692_PIA23920-320x240.jpg\" src=\"/assets/loading_320x240.png\"/>\n           </a>\n          </div>\n          <div class=\"content_title\">\n           <a href=\"/news/8692/nasa-to-hold-mars-2020-perseverance-rover-launch-briefing/\">\n            NASA to Hold Mars 2020 Perseverance Rover Launch Briefing\n           </a>\n          </div>\n         </div>\n         <div class=\"slide\">\n          <div class=\"image_and_description_container\">\n           <a href=\"/news/8659/alabama-high-school-student-names-nasas-mars-helicopter/\">\n            <div class=\"rollover_description\">\n             <div class=\"rollover_description_inner\">\n              Vaneeza Rupani's essay was chosen as the name for the small spacecraft, which will mark NASA's first attempt at powered flight on another planet.\n             </div>\n             <div class=\"overlay_arrow\">\n              <img alt=\"More\" src=\"/assets/overlay-arrow.png\"/>\n             </div>\n            </div>\n            <img alt=\"Alabama High School Student Names NASA's Mars Helicopter\" class=\"img-lazy\" data-lazy=\"/system/news_items/list_view_images/8659_1-PIA23883-MAIN-320x240.jpg\" src=\"/assets/loading_320x240.png\"/>\n           </a>\n          </div>\n          <div class=\"content_title\">\n           <a href=\"/news/8659/alabama-high-school-student-names-nasas-mars-helicopter/\">\n            Alabama High School Student Names NASA's Mars Helicopter\n           </a>\n          </div>\n         </div>\n         <div class=\"slide\">\n          <div class=\"image_and_description_container\">\n           <a href=\"/news/8645/mars-helicopter-attached-to-nasas-perseverance-rover/\">\n            <div class=\"rollover_description\">\n             <div class=\"rollover_description_inner\">\n              The team also fueled the rover's sky crane to get ready for this summer's history-making launch.\n             </div>\n             <div class=\"overlay_arrow\">\n              <img alt=\"More\" src=\"/assets/overlay-arrow.png\"/>\n             </div>\n            </div>\n            <img alt=\"Mars Helicopter Attached to NASA's Perseverance Rover\" class=\"img-lazy\" data-lazy=\"/system/news_items/list_view_images/8645_PIA23824-RoverWithHelicopter-32x24.jpg\" src=\"/assets/loading_320x240.png\"/>\n           </a>\n          </div>\n          <div class=\"content_title\">\n           <a href=\"/news/8645/mars-helicopter-attached-to-nasas-perseverance-rover/\">\n            Mars Helicopter Attached to NASA's Perseverance Rover\n           </a>\n          </div>\n         </div>\n         <div class=\"slide\">\n          <div class=\"image_and_description_container\">\n           <a href=\"/news/8641/nasas-perseverance-mars-rover-gets-its-wheels-and-air-brakes/\">\n            <div class=\"rollover_description\">\n             <div class=\"rollover_description_inner\">\n              After the rover was shipped from JPL to Kennedy Space Center, the team is getting closer to finalizing the spacecraft for launch later this summer.\n             </div>\n             <div class=\"overlay_arrow\">\n              <img alt=\"More\" src=\"/assets/overlay-arrow.png\"/>\n             </div>\n            </div>\n            <img alt=\"NASA's Perseverance Mars Rover Gets Its Wheels and Air Brakes\" class=\"img-lazy\" data-lazy=\"/system/news_items/list_view_images/8641_PIA-23821-320x240.jpg\" src=\"/assets/loading_320x240.png\"/>\n           </a>\n          </div>\n          <div class=\"content_title\">\n           <a href=\"/news/8641/nasas-perseverance-mars-rover-gets-its-wheels-and-air-brakes/\">\n            NASA's Perseverance Mars Rover Gets Its Wheels and Air Brakes\n           </a>\n          </div>\n         </div>\n         <div class=\"grid_layout\">\n          <div class=\"slick-nav_container\">\n           <div class=\"slick-nav\">\n           </div>\n          </div>\n         </div>\n        </div>\n       </section>\n      </div>\n     </section>\n    </div>\n    <footer id=\"site_footer\">\n     <div class=\"grid_layout\">\n      <section class=\"upper_footer\">\n       <div class=\"share_newsletter_container\">\n        <div class=\"newsletter\">\n         <h2>\n          Get the Mars Newsletter\n         </h2>\n         <form action=\"/newsletter-subscribe\">\n          <input id=\"email\" name=\"email\" placeholder=\"enter email address\" type=\"email\" value=\"\"/>\n          <input data-disable-with=\"\" name=\"commit\" type=\"submit\" value=\"\"/>\n         </form>\n        </div>\n        <div class=\"share\">\n         <h2>\n          Follow the Journey\n         </h2>\n         <div class=\"social_icons\">\n          <!-- AddThis Button BEGIN -->\n          <div class=\"addthis_toolbox addthis_default_style addthis_32x32_style\">\n           <a addthis:userid=\"MarsCuriosity\" class=\"addthis_button_twitter_follow icon\">\n            <img alt=\"twitter\" src=\"/assets/twitter_icon@2x.png\"/>\n           </a>\n           <a addthis:userid=\"MarsCuriosity\" class=\"addthis_button_facebook_follow icon\">\n            <img alt=\"facebook\" src=\"/assets/facebook_icon@2x.png\"/>\n           </a>\n           <a addthis:userid=\"nasa\" class=\"addthis_button_instagram_follow icon\">\n            <img alt=\"instagram\" src=\"/assets/instagram_icon@2x.png\"/>\n           </a>\n           <a addthis:url=\"https://mars.nasa.gov/rss/api/?feed=news&amp;category=all&amp;feedtype=rss\" class=\"addthis_button_rss_follow icon\">\n            <img alt=\"rss\" src=\"/assets/rss_icon@2x.png\"/>\n           </a>\n          </div>\n         </div>\n         <script src=\"//s7.addthis.com/js/300/addthis_widget.js#pubid=ra-5a690e4c1320e328\">\n         </script>\n        </div>\n       </div>\n       <div class=\"gradient_line\">\n       </div>\n      </section>\n      <section class=\"sitemap\">\n       <div class=\"sitemap_directory\" id=\"sitemap_directory\">\n        <div class=\"sitemap_block\">\n         <div class=\"footer_sitemap_item\">\n          <h3 class=\"sitemap_title\">\n           <a href=\"/#red_planet\">\n            The Red Planet\n           </a>\n          </h3>\n          <ul>\n           <li>\n            <div class=\"global_subnav_container\">\n             <ul class=\"subnav\">\n              <li>\n               <a href=\"/#red_planet/0\" target=\"_self\">\n                Dashboard\n               </a>\n              </li>\n              <li>\n               <a href=\"/#red_planet/1\" target=\"_self\">\n                Science Goals\n               </a>\n              </li>\n              <li>\n               <a href=\"/#red_planet/2\" target=\"_self\">\n                The Planet\n               </a>\n              </li>\n              <li>\n               <a href=\"/#red_planet/3\" target=\"_self\">\n                Atmosphere\n               </a>\n              </li>\n              <li>\n               <a href=\"/#red_planet/4\" target=\"_self\">\n                Astrobiology\n               </a>\n              </li>\n              <li>\n               <a href=\"/#red_planet/5\" target=\"_self\">\n                Past, Present, Future, Timeline\n               </a>\n              </li>\n             </ul>\n            </div>\n           </li>\n          </ul>\n         </div>\n        </div>\n        <div class=\"sitemap_block\">\n         <div class=\"footer_sitemap_item\">\n          <h3 class=\"sitemap_title\">\n           <a href=\"/#mars_exploration_program\">\n            The Program\n           </a>\n          </h3>\n          <ul>\n           <li>\n            <div class=\"global_subnav_container\">\n             <ul class=\"subnav\">\n              <li>\n               <a href=\"/#mars_exploration_program/0\" target=\"_self\">\n                Mission Statement\n               </a>\n              </li>\n              <li>\n               <a href=\"/#mars_exploration_program/1\" target=\"_self\">\n                About the Program\n               </a>\n              </li>\n              <li>\n               <a href=\"/#mars_exploration_program/2\" target=\"_self\">\n                Organization\n               </a>\n              </li>\n              <li>\n               <a href=\"/#mars_exploration_program/3\" target=\"_self\">\n                Why Mars?\n               </a>\n              </li>\n              <li>\n               <a href=\"/#mars_exploration_program/4\" target=\"_self\">\n                Research Programs\n               </a>\n              </li>\n              <li>\n               <a href=\"/#mars_exploration_program/5\" target=\"_self\">\n                Planetary Resources\n               </a>\n              </li>\n              <li>\n               <a href=\"/#mars_exploration_program/6\" target=\"_self\">\n                Technologies\n               </a>\n              </li>\n             </ul>\n            </div>\n           </li>\n          </ul>\n         </div>\n        </div>\n        <div class=\"sitemap_block\">\n         <div class=\"footer_sitemap_item\">\n          <h3 class=\"sitemap_title\">\n           <a href=\"/#news_and_events\">\n            News &amp; Events\n           </a>\n          </h3>\n          <ul>\n           <li>\n            <div class=\"global_subnav_container\">\n             <ul class=\"subnav\">\n              <li class=\"current\">\n               <a href=\"/news\" target=\"_self\">\n                News\n               </a>\n              </li>\n              <li>\n               <a href=\"/events\" target=\"_self\">\n                Events\n               </a>\n              </li>\n             </ul>\n            </div>\n           </li>\n          </ul>\n         </div>\n        </div>\n        <div class=\"sitemap_block\">\n         <div class=\"footer_sitemap_item\">\n          <h3 class=\"sitemap_title\">\n           <a href=\"/#multimedia\">\n            Multimedia\n           </a>\n          </h3>\n          <ul>\n           <li>\n            <div class=\"global_subnav_container\">\n             <ul class=\"subnav\">\n              <li>\n               <a href=\"/multimedia/images/\" target=\"_self\">\n                Images\n               </a>\n              </li>\n              <li>\n               <a href=\"/multimedia/videos/\" target=\"_self\">\n                Videos\n               </a>\n              </li>\n              <li>\n               <a href=\"/multimedia/more-resources/\" target=\"_self\">\n                More Resources\n               </a>\n              </li>\n             </ul>\n            </div>\n           </li>\n          </ul>\n         </div>\n        </div>\n        <div class=\"sitemap_block\">\n         <div class=\"footer_sitemap_item\">\n          <h3 class=\"sitemap_title\">\n           <a href=\"/#missions_gallery_subnav\">\n            Missions\n           </a>\n          </h3>\n          <ul>\n           <li>\n            <div class=\"global_subnav_container\">\n             <ul class=\"subnav\">\n              <li>\n               <a href=\"/mars-exploration/missions/?category=167\" target=\"_self\">\n                Past\n               </a>\n              </li>\n              <li>\n               <a href=\"/mars-exploration/missions/?category=170\" target=\"_self\">\n                Present\n               </a>\n              </li>\n              <li>\n               <a href=\"/mars-exploration/missions/?category=171\" target=\"_self\">\n                Future\n               </a>\n              </li>\n              <li>\n               <a href=\"/mars-exploration/partners\" target=\"_self\">\n                International Partners\n               </a>\n              </li>\n             </ul>\n            </div>\n           </li>\n          </ul>\n         </div>\n        </div>\n        <div class=\"sitemap_block\">\n         <div class=\"footer_sitemap_item\">\n          <h3 class=\"sitemap_title\">\n           <a href=\"/#more\">\n            More\n           </a>\n          </h3>\n          <ul>\n           <li>\n            <div class=\"global_subnav_container\">\n             <ul class=\"subnav\">\n             </ul>\n            </div>\n           </li>\n          </ul>\n         </div>\n        </div>\n       </div>\n       <div class=\"gradient_line\">\n       </div>\n      </section>\n      <section class=\"lower_footer\">\n       <div class=\"nav_container\">\n        <nav>\n         <ul>\n          <li>\n           <a href=\"http://science.nasa.gov/\" target=\"_blank\">\n            NASA Science Mission Directorate\n           </a>\n          </li>\n          <li>\n           <a href=\"https://www.jpl.nasa.gov/copyrights.php\" target=\"_blank\">\n            Privacy\n           </a>\n          </li>\n          <li>\n           <a href=\"http://www.jpl.nasa.gov/imagepolicy/\" target=\"_blank\">\n            Image Policy\n           </a>\n          </li>\n          <li>\n           <a href=\"https://mars.nasa.gov/feedback/\" target=\"_self\">\n            Feedback\n           </a>\n          </li>\n         </ul>\n        </nav>\n       </div>\n       <div class=\"credits\">\n        <div class=\"footer_brands_top\">\n         <p>\n          Managed by the Mars Exploration Program and the Jet Propulsion Laboratory for NASA’s Science Mission Directorate\n         </p>\n        </div>\n        <!-- .footer_brands -->\n        <!-- %a.jpl{href: \"\", target: \"_blank\"}Institution -->\n        <!-- -->\n        <!-- %a.caltech{href: \"\", target: \"_blank\"}Institution -->\n        <!-- .staff -->\n        <!-- %p -->\n        <!-- - get_staff_for_category(get_field_from_admin_config(:web_staff_category_id)) -->\n        <!-- - @staff.each_with_index do |staff, idx| -->\n        <!-- - unless staff.is_in_footer == 0 -->\n        <!-- = staff.title + \": \" -->\n        <!-- - if staff.contact_link =~ /@/ -->\n        <!-- = mail_to staff.contact_link, staff.name, :subject => \"[#{@site_title}]\" -->\n        <!-- - elsif staff.contact_link.present? -->\n        <!-- = link_to staff.name, staff.contact_link -->\n        <!-- - else -->\n        <!-- = staff.name -->\n        <!-- - unless (idx + 1 == @staff.size) -->\n        <!-- %br -->\n       </div>\n      </section>\n     </div>\n    </footer>\n   </div>\n  </div>\n  <script id=\"_fed_an_ua_tag\" src=\"https://dap.digitalgov.gov/Universal-Federated-Analytics-Min.js?agency=NASA&amp;subagency=JPL-Mars-MEPJPL&amp;pua=UA-9453474-9,UA-118212757-11&amp;dclink=true&amp;sp=searchbox&amp;exts=tif,tiff,wav\" type=\"text/javascript\">\n  </script>\n </body>\n</html>\n\n"
    }
   ],
   "source": [
    "# Examine the results, then determine element that contains sought info\n",
    "print(soup.prettify())"
   ]
  },
  {
   "cell_type": "code",
   "execution_count": 15,
   "metadata": {},
   "outputs": [
    {
     "output_type": "execute_result",
     "data": {
      "text/plain": "'NASA to Broadcast Mars 2020 Perseverance Launch, Prelaunch Activities'"
     },
     "metadata": {},
     "execution_count": 15
    }
   ],
   "source": [
    "# Find the latest News Title\n",
    "# results are returned as an iterable list\n",
    "news_title = soup.find('div', class_=\"content_title\").find('a').text.strip()\n",
    "news_title"
   ]
  },
  {
   "cell_type": "code",
   "execution_count": 16,
   "metadata": {},
   "outputs": [
    {
     "output_type": "execute_result",
     "data": {
      "text/plain": "'Starting July 27, news activities will cover everything from mission engineering and science to returning samples from Mars to, of course, the launch itself.'"
     },
     "metadata": {},
     "execution_count": 16
    }
   ],
   "source": [
    "# Find the latest Paragraph text of the latest News Title\n",
    "# results are returned as an iterable list\n",
    "news_p = soup.find('div', class_=\"rollover_description_inner\").text.strip()\n",
    "news_p"
   ]
  },
  {
   "cell_type": "code",
   "execution_count": 17,
   "metadata": {
    "tags": []
   },
   "outputs": [
    {
     "output_type": "stream",
     "name": "stdout",
     "text": "NASA to Broadcast Mars 2020 Perseverance Launch, Prelaunch Activities\nStarting July 27, news activities will cover everything from mission engineering and science to returning samples from Mars to, of course, the launch itself.\n"
    }
   ],
   "source": [
    "# Latest News Title and Paragraph Text\n",
    "print(news_title)\n",
    "print(news_p)"
   ]
  },
  {
   "cell_type": "code",
   "execution_count": 18,
   "metadata": {
    "tags": [
     "outputPrepend"
    ]
   },
   "outputs": [
    {
     "output_type": "stream",
     "name": "stdout",
     "text": "A Establishes Board to Initially Review Mars Sample Return Plans\n          </div>\n         </a>\n        </li>\n        <li class=\"slide\">\n         <a href=\"//www.jpl.nasa.gov/news/news.php?feature=7725\">\n          <div class=\"image_and_description_container\">\n           <div class=\"rollover_description\">\n            Headed to the Red Planet with the Perseverance rover, the pioneering helicopter is powered up for the first time in interplanetary space as part of a systems check.\n            <div class=\"overlay_arrow\">\n             <img alt=\"more arrow\" src=\"/assets/images/overlay-arrow.png\"/>\n            </div>\n           </div>\n           <img alt=\"The Ingenuity Mars Helicopter can be seen between the left and center wheels of the Mars 2020 Perseverance rover\" src=\"//imagecache.jpl.nasa.gov/images/640x350/PIA24043-16-640x350.jpg\"/>\n          </div>\n          <div class=\"content_title\">\n           NASA's Ingenuity Mars Helicopter Recharges Its Batteries in Flight\n          </div>\n         </a>\n        </li>\n       </ul>\n       <footer>\n        <a class=\"outline_button dark\" href=\"/news\">\n         more news\n        </a>\n       </footer>\n      </div>\n     </section>\n     <!-- END CONTENT -->\n     <script src=\"/Scripts/custom_detail.js\" type=\"text/javascript\">\n     </script>\n     <!-- START FOOTER: \"DEFAULT\" -->\n    </div>\n    <footer class=\"clearfix\" id=\"site_footer\">\n     <section class=\"upper_footer\">\n      <div class=\"grid_layout\">\n       <div class=\"footer_newsletter\">\n        <h2>\n         Get the Newsletter\n        </h2>\n        <form action=\"/signup/index.php\" class=\"submit_newsletter\" method=\"post\">\n         <input class=\"email_field\" name=\"email_field\" onblur=\"this.placeholder = 'enter email address'\" onfocus=\"this.placeholder = ''\" placeholder=\"enter email address\" type=\"email\" value=\"\"/>\n         <input class=\"email_submit\" type=\"submit\" value=\"\"/>\n        </form>\n       </div>\n       <div class=\"gradient_line_divider\">\n       </div>\n       <div class=\"share\">\n        <h2>\n         Follow JPL\n        </h2>\n        <div class=\"social_icons\">\n         <!-- AddThis Button BEGIN -->\n         <div class=\"addthis_toolbox addthis_default_style addthis_32x32_style\">\n          <a addthis:userid=\"NASAJPL\" class=\"addthis_button_facebook_follow icon at300b\" href=\"http://www.facebook.com/NASAJPL\" target=\"_blank\" title=\"Follow on Facebook\">\n           <span class=\"at-icon-wrapper\" style=\"background-color: rgb(59, 89, 152); line-height: 32px; height: 32px; width: 32px;\">\n            <svg alt=\"Facebook\" aria-labelledby=\"at-svg-facebook-5\" class=\"at-icon at-icon-facebook\" role=\"img\" style=\"width: 32px; height: 32px;\" title=\"Facebook\" version=\"1.1\" viewbox=\"0 0 32 32\" xmlns=\"http://www.w3.org/2000/svg\" xmlns:xlink=\"http://www.w3.org/1999/xlink\">\n             <title id=\"at-svg-facebook-5\">\n              Facebook\n             </title>\n             <g>\n              <path d=\"M22 5.16c-.406-.054-1.806-.16-3.43-.16-3.4 0-5.733 1.825-5.733 5.17v2.882H9v3.913h3.837V27h4.604V16.965h3.823l.587-3.913h-4.41v-2.5c0-1.123.347-1.903 2.198-1.903H22V5.16z\" fill-rule=\"evenodd\">\n              </path>\n             </g>\n            </svg>\n           </span>\n           <span class=\"addthis_follow_label\">\n            Facebook\n           </span>\n          </a>\n          <a addthis:userid=\"NASAJPL\" class=\"addthis_button_twitter_follow icon at300b\" href=\"//twitter.com/NASAJPL\" target=\"_blank\" title=\"Follow on Twitter\">\n           <span class=\"at-icon-wrapper\" style=\"background-color: rgb(29, 161, 242); line-height: 32px; height: 32px; width: 32px;\">\n            <svg alt=\"Twitter\" aria-labelledby=\"at-svg-twitter-6\" class=\"at-icon at-icon-twitter\" role=\"img\" style=\"width: 32px; height: 32px;\" title=\"Twitter\" version=\"1.1\" viewbox=\"0 0 32 32\" xmlns=\"http://www.w3.org/2000/svg\" xmlns:xlink=\"http://www.w3.org/1999/xlink\">\n             <title id=\"at-svg-twitter-6\">\n              Twitter\n             </title>\n             <g>\n              <path d=\"M27.996 10.116c-.81.36-1.68.602-2.592.71a4.526 4.526 0 0 0 1.984-2.496 9.037 9.037 0 0 1-2.866 1.095 4.513 4.513 0 0 0-7.69 4.116 12.81 12.81 0 0 1-9.3-4.715 4.49 4.49 0 0 0-.612 2.27 4.51 4.51 0 0 0 2.008 3.755 4.495 4.495 0 0 1-2.044-.564v.057a4.515 4.515 0 0 0 3.62 4.425 4.52 4.52 0 0 1-2.04.077 4.517 4.517 0 0 0 4.217 3.134 9.055 9.055 0 0 1-5.604 1.93A9.18 9.18 0 0 1 6 23.85a12.773 12.773 0 0 0 6.918 2.027c8.3 0 12.84-6.876 12.84-12.84 0-.195-.005-.39-.014-.583a9.172 9.172 0 0 0 2.252-2.336\" fill-rule=\"evenodd\">\n              </path>\n             </g>\n            </svg>\n           </span>\n           <span class=\"addthis_follow_label\">\n            Twitter\n           </span>\n          </a>\n          <a addthis:userid=\"JPLnews\" class=\"addthis_button_youtube_follow icon at300b\" href=\"http://www.youtube.com/user/JPLnews?sub_confirmation=1\" target=\"_blank\" title=\"Follow on YouTube\">\n           <span class=\"at-icon-wrapper\" style=\"background-color: rgb(205, 32, 31); line-height: 32px; height: 32px; width: 32px;\">\n            <svg alt=\"YouTube\" aria-labelledby=\"at-svg-youtube-7\" class=\"at-icon at-icon-youtube\" role=\"img\" style=\"width: 32px; height: 32px;\" title=\"YouTube\" version=\"1.1\" viewbox=\"0 0 32 32\" xmlns=\"http://www.w3.org/2000/svg\" xmlns:xlink=\"http://www.w3.org/1999/xlink\">\n             <title id=\"at-svg-youtube-7\">\n              YouTube\n             </title>\n            </svg>\n           </span>\n           <span class=\"addthis_follow_label\">\n            YouTube\n           </span>\n          </a>\n          <a addthis:userid=\"nasajpl\" class=\"addthis_button_instagram_follow icon at300b\" href=\"http://instagram.com/nasajpl\" target=\"_blank\" title=\"Follow on Instagram\">\n           <span class=\"at-icon-wrapper\" style=\"background-color: rgb(224, 53, 102); line-height: 32px; height: 32px; width: 32px;\">\n            <svg alt=\"Instagram\" aria-labelledby=\"at-svg-instagram-8\" class=\"at-icon at-icon-instagram\" role=\"img\" style=\"width: 32px; height: 32px;\" title=\"Instagram\" version=\"1.1\" viewbox=\"0 0 32 32\" xmlns=\"http://www.w3.org/2000/svg\" xmlns:xlink=\"http://www.w3.org/1999/xlink\">\n             <title id=\"at-svg-instagram-8\">\n              Instagram\n             </title>\n            </svg>\n           </span>\n           <span class=\"addthis_follow_label\">\n            Instagram\n           </span>\n          </a>\n          <a class=\"icon all_icon\" href=\"/social\">\n           <span>\n            All\n           </span>\n          </a>\n          <div class=\"atclear\">\n          </div>\n         </div>\n         <script>\n          addthis_loader.init(\"//s7.addthis.com/js/300/addthis_widget.js#pubid=ra-5429eeee4e460927\", {follow: true})\n         </script>\n        </div>\n       </div>\n      </div>\n      <div class=\"gradient_line\">\n      </div>\n     </section>\n     <section class=\"sitemap\">\n      <div class=\"grid_layout\">\n       <div class=\"sitemap_directory\">\n        <div class=\"sitemap_block\">\n         <div class=\"footer_sitemap_item\">\n          <h3 class=\"sitemap_title\">\n           about JPL\n          </h3>\n          <ul class=\"subnav\">\n           <li>\n            <a href=\"/about/\">\n             About JPL\n            </a>\n           </li>\n           <li>\n            <a href=\"https://www.jpl.nasa.gov/jpl2025/vision/\">\n             JPL Vision\n            </a>\n           </li>\n           <li>\n            <a href=\"/about/exec.php\">\n             Executive Council\n            </a>\n           </li>\n           <li>\n            <a href=\"/about/history.php\">\n             History\n            </a>\n           </li>\n           <li>\n            <a href=\"/about/reports.php\">\n             Annual Reports\n            </a>\n           </li>\n           <li>\n            <a href=\"/contact_JPL.php\">\n             Contact Us\n            </a>\n           </li>\n           <li>\n            <a href=\"/opportunities/\">\n             Opportunities\n            </a>\n           </li>\n           <li>\n            <a href=\"https://thejplstore.com\" target=\"_blank\">\n             JPL Online Store\n            </a>\n           </li>\n           <li>\n            <a href=\"/acquisition/\">\n             Doing Business with JPL\n            </a>\n           </li>\n          </ul>\n         </div>\n         <div class=\"footer_sitemap_item\">\n          <h3 class=\"sitemap_title\">\n           missions\n          </h3>\n          <ul class=\"subnav\">\n           <li>\n            <a href=\"/missions/?type=current\">\n             Current\n            </a>\n           </li>\n           <li>\n            <a href=\"/missions/?type=past\">\n             Past\n            </a>\n           </li>\n           <li>\n            <a href=\"/missions/?type=future\">\n             Future\n            </a>\n           </li>\n           <li>\n            <a href=\"/missions/?type=proposed\">\n             Proposed\n            </a>\n           </li>\n           <li>\n            <a href=\"/missions\">\n             All\n            </a>\n           </li>\n          </ul>\n         </div>\n        </div>\n        <div class=\"sitemap_block\">\n         <div class=\"footer_sitemap_item\">\n          <h3 class=\"sitemap_title\">\n           education\n          </h3>\n          <ul class=\"subnav\">\n           <li>\n            <a href=\"/edu/intern/\">\n             Intern\n            </a>\n           </li>\n           <li>\n            <a href=\"/edu/learn/\">\n             Learn\n            </a>\n           </li>\n           <li>\n            <a href=\"/edu/teach/\">\n             Teach\n            </a>\n           </li>\n           <li>\n            <a href=\"/edu/news/\">\n             News\n            </a>\n           </li>\n           <li>\n            <a href=\"/edu/events/\">\n             Events\n            </a>\n           </li>\n          </ul>\n         </div>\n         <div class=\"footer_sitemap_item\">\n          <h3 class=\"sitemap_title\">\n           news\n          </h3>\n          <ul class=\"subnav\">\n           <li>\n            <a href=\"/news\">\n             Latest News\n            </a>\n           </li>\n           <li>\n            <a href=\"/news/presskits.php\">\n             Press Kits\n            </a>\n           </li>\n           <li>\n            <a href=\"/news/factsheets.php\">\n             Fact Sheets\n            </a>\n           </li>\n           <li>\n            <a href=\"/news/mediainformation.php\">\n             Media Information\n            </a>\n           </li>\n           <li>\n            <a href=\"/universe/\">\n             Universe Newspaper\n            </a>\n           </li>\n          </ul>\n         </div>\n         <div class=\"footer_sitemap_item\">\n          <h3 class=\"sitemap_title\">\n           public events\n          </h3>\n          <ul class=\"subnav\">\n           <li>\n            <a href=\"/events/\">\n             Overview\n            </a>\n           </li>\n           <li>\n            <a href=\"/events/tours/views/\">\n             Tours\n            </a>\n           </li>\n           <li>\n            <a href=\"/events/lectures.php\">\n             Lecture Series\n            </a>\n           </li>\n           <li>\n            <a href=\"/events/speakers-bureau.php\">\n             Speakers Bureau\n            </a>\n           </li>\n           <li>\n            <a href=\"/events/team-competitions.php\">\n             Team Competitions\n            </a>\n           </li>\n           <li>\n            <a href=\"/events/special-events.php\">\n             Special Events\n            </a>\n           </li>\n          </ul>\n         </div>\n        </div>\n        <div class=\"sitemap_block\">\n         <div class=\"footer_sitemap_item\">\n          <h3 class=\"sitemap_title\">\n           Our Sites\n          </h3>\n          <ul class=\"subnav\">\n           <li>\n            <a href=\"/asteroidwatch/\">\n             Asteroid Watch\n            </a>\n           </li>\n           <li>\n            <a href=\"https://solarsystem.nasa.gov/basics/\" target=\"_blank\">\n             Basics of Spaceflight\n            </a>\n           </li>\n           <a href=\"https://solarsystem.nasa.gov/basics/\" target=\"_blank\">\n           </a>\n           <li>\n            <a href=\"https://solarsystem.nasa.gov/basics/\" target=\"_blank\">\n            </a>\n            <a href=\"https://saturn.jpl.nasa.gov/index.cfm\">\n             Cassini - Mission to Saturn\n            </a>\n           </li>\n           <li>\n            <a href=\"https://climatekids.nasa.gov/index.cfm\">\n             Climate Kids\n            </a>\n           </li>\n           <li>\n            <a href=\"https://climate.nasa.gov\">\n             Earth / Global Climate Change\n            </a>\n           </li>\n           <li>\n            <a href=\"https://planetquest.jpl.nasa.gov\">\n             Exoplanet Exploration\n            </a>\n           </li>\n           <li>\n            <a href=\"/missions/juno/\">\n             Juno - Mission to Jupiter\n            </a>\n           </li>\n           <li>\n            <a href=\"https://mars.nasa.gov/\">\n             Mars Exploration\n            </a>\n           </li>\n           <li>\n            <a href=\"https://scienceandtechnology.jpl.nasa.gov/\">\n             Science and Technology\n            </a>\n           </li>\n           <li>\n            <a href=\"https://solarsystem.nasa.gov/\">\n             Solar System Exploration\n            </a>\n           </li>\n           <li>\n            <a href=\"https://spaceplace.nasa.gov/\">\n             Space Place\n            </a>\n           </li>\n           <li>\n            <a href=\"https://eyes.nasa.gov/\">\n             NASA's Eyes\n            </a>\n           </li>\n           <li>\n            <a href=\"https://www.spitzer.caltech.edu/\">\n             Spitzer Space Telescope\n            </a>\n           </li>\n           <li>\n            <a href=\"https://voyager.jpl.nasa.gov/\">\n             Voyager Interstellar Mission\n            </a>\n           </li>\n          </ul>\n         </div>\n         <div class=\"footer_sitemap_item\">\n          <h3 class=\"sitemap_title\">\n           galleries\n          </h3>\n          <ul class=\"subnav\">\n           <li>\n            <a href=\"/spaceimages/\">\n             JPL Space Images\n            </a>\n           </li>\n           <li>\n            <a href=\"/video/\">\n             Videos\n            </a>\n           </li>\n           <li>\n            <a href=\"/infographics/\">\n             Infographics\n            </a>\n           </li>\n           <li>\n            <a href=\"https://photojournal.jpl.nasa.gov/\">\n             Photojournal\n            </a>\n           </li>\n           <li>\n            <a href=\"http://www.nasaimages.org/\">\n             NASA Images\n            </a>\n           </li>\n           <li>\n            <a href=\"/apps/\">\n             Mobile Apps\n            </a>\n           </li>\n          </ul>\n         </div>\n        </div>\n        <div class=\"sitemap_block\">\n         <div class=\"footer_sitemap_item\">\n          <h3 class=\"sitemap_title\">\n           Follow JPL\n          </h3>\n          <ul class=\"subnav\">\n           <li>\n            <a href=\"/signup/\">\n             Newsletter\n            </a>\n           </li>\n           <li>\n            <a href=\"https://www.facebook.com/NASAJPL\">\n             Facebook\n            </a>\n           </li>\n           <li>\n            <a href=\"http://twitter.com/NASAJPL\">\n             Twitter\n            </a>\n           </li>\n           <li>\n            <a href=\"http://www.youtube.com/user/JPLnews\">\n             YouTube\n            </a>\n           </li>\n           <li>\n            <a href=\"http://www.flickr.com/photos/nasa-jpl\">\n             Flickr\n            </a>\n           </li>\n           <li>\n            <a href=\"http://instagram.com/nasajpl\">\n             Instagram\n            </a>\n           </li>\n           <li>\n            <a href=\"https://www.linkedin.com/company/2004/\">\n             LinkedIn\n            </a>\n           </li>\n           <li>\n            <a href=\"http://itunes.apple.com/podcast/hd-nasas-jet-propulsion-laboratory/id262254981\">\n             iTunes\n            </a>\n           </li>\n           <li>\n            <a href=\"http://www.ustream.tv/nasajpl\">\n             UStream\n            </a>\n           </li>\n           <li>\n            <a href=\"/rss/\">\n             RSS\n            </a>\n           </li>\n           <li>\n            <a href=\"http://blogs.jpl.nasa.gov\">\n             Blog\n            </a>\n           </li>\n           <li>\n            <a href=\"/onthego/\">\n             Mobile\n            </a>\n           </li>\n           <li>\n            <a href=\"/social/\">\n             All Social Media\n            </a>\n           </li>\n          </ul>\n         </div>\n         <div class=\"footer_sitemap_item\">\n          <h3 class=\"sitemap_title\">\n           NASA\n          </h3>\n          <ul class=\"subnav\">\n           <li>\n            <a href=\"http://jplwater.nasa.gov\">\n             NASA Water Cleanup\n            </a>\n           </li>\n           <li>\n            <a href=\"http://www.hq.nasa.gov/office/pao/FOIA/agency/\">\n             FOIA\n            </a>\n           </li>\n          </ul>\n         </div>\n        </div>\n       </div>\n      </div>\n      <div class=\"gradient_line\">\n      </div>\n     </section>\n     <section class=\"lower_footer\">\n      <div class=\"nav_container\">\n       <nav>\n        <ul>\n         <li>\n          <a href=\"http://www.nasa.gov/\" target=\"_blank\">\n           NASA\n          </a>\n         </li>\n         |\n         <li>\n          <a href=\"http://www.caltech.edu/\" target=\"_blank\">\n           Caltech\n          </a>\n         </li>\n         |\n         <li>\n          <a href=\"/privacy\">\n           Privacy\n          </a>\n         </li>\n         |\n         <li>\n          <a href=\"/imagepolicy\">\n           Image Policy\n          </a>\n         </li>\n         |\n         <li>\n          <a href=\"/faq.php\">\n           FAQ\n          </a>\n         </li>\n         |\n         <li>\n          <a href=\"/contact_JPL.php\">\n           Feedback\n          </a>\n         </li>\n        </ul>\n       </nav>\n      </div>\n      <div class=\"credits\">\n       <span class=\"credits_manager\">\n        Site Manager: Veronica McGregor\n       </span>\n       <span class=\"credits_webmaster\">\n        Site Editors: Tony Greicius, Randal Jackson, Naomi Hartono\n       </span>\n      </div>\n     </section>\n    </footer>\n   </div>\n  </div>\n  <script src=\"/assets/javascripts/vendor/prefixfree.js\" type=\"text/javascript\">\n  </script>\n  <script src=\"/assets/javascripts/vendor/prefixfree.jquery.js\" type=\"text/javascript\">\n  </script>\n  <script id=\"_fed_an_ua_tag\" src=\"https://dap.digitalgov.gov/Universal-Federated-Analytics-Min.js?agency=NASA&amp;pua=UA-45212297-1&amp;subagency=JPL&amp;dclink=true&amp;sp=search,s,q&amp;sdor=false&amp;exts=tif,tiff\" type=\"text/javascript\">\n  </script>\n  <script type=\"text/javascript\">\n   setTimeout(function(){var a=document.createElement(\"script\");\nvar b=document.getElementsByTagName(\"script\")[0];\na.src=document.location.protocol+\"//script.crazyegg.com/pages/scripts/0025/5267.js?\"+Math.floor(new Date().getTime()/3600000);\na.async=true;a.type=\"text/javascript\";b.parentNode.insertBefore(a,b)}, 1);\n  </script>\n  <!-- END FOOTER: \"DEFAULT\" -->\n  <div id=\"_atssh\" style=\"visibility: hidden; height: 1px; width: 1px; position: absolute; top: -9999px; z-index: 100000;\">\n   <iframe id=\"_atssh780\" src=\"https://s7.addthis.com/static/sh.f48a1a04fe8dbf021b4cda1d.html#rand=0.3894738891482705&amp;iit=1598191859875&amp;tmr=load%3D1598191858826%26core%3D1598191858945%26main%3D1598191859865%26ifr%3D1598191859881&amp;cb=0&amp;cdn=0&amp;md=0&amp;kw=&amp;ab=-&amp;dh=www.jpl.nasa.gov&amp;dr=&amp;du=https%3A%2F%2Fwww.jpl.nasa.gov%2Fspaceimages%2F%3Fsearch%3D%26category%3DMars&amp;href=https%3A%2F%2Fwww.jpl.nasa.gov%2Fspaceimages%2F&amp;dt=Space%20Images&amp;dbg=0&amp;cap=tc%3D0%26ab%3D0&amp;inst=1&amp;jsl=1&amp;prod=undefined&amp;lng=en&amp;ogt=&amp;pc=men&amp;pub=&amp;ssl=1&amp;sid=5f4278f2b8b16f1f&amp;srf=0.01&amp;ver=300&amp;xck=1&amp;xtr=0&amp;og=&amp;csi=undefined&amp;rev=v8.28.7-wp&amp;ct=1&amp;xld=1&amp;xd=1\" style=\"height: 1px; width: 1px; position: absolute; top: 0px; z-index: 100000; border: 0px; left: 0px;\" title=\"AddThis utility frame\">\n   </iframe>\n  </div>\n  <style id=\"service-icons-0\">\n  </style>\n </body>\n</html>\n"
    }
   ],
   "source": [
    "#  JPL Featured Space Image URL \n",
    "\n",
    "# Visit NASA JPL Website\n",
    "imageurl = 'https://www.jpl.nasa.gov/spaceimages/?search=&category=Mars'\n",
    "browser.visit(imageurl)\n",
    "\n",
    "# Give the page time to load\n",
    "time.sleep(1)\n",
    "\n",
    "# Scrape page into Soup\n",
    "html = browser.html\n",
    "imageSoup = bs(html, \"html.parser\")\n",
    "print(imageSoup.prettify())\n",
    "\n",
    "# Close browser\n",
    "#### ADD CODE HERE"
   ]
  },
  {
   "cell_type": "code",
   "execution_count": 21,
   "metadata": {},
   "outputs": [],
   "source": [
    "# Find the JPL Featured Space Image URL \n",
    "# results are returned as an iterable list\n",
    "featured_img = soup.find('article', style=\"background-image:%20\")\n",
    "featured_img"
   ]
  },
  {
   "cell_type": "code",
   "execution_count": null,
   "metadata": {},
   "outputs": [],
   "source": []
  },
  {
   "cell_type": "code",
   "execution_count": null,
   "metadata": {},
   "outputs": [],
   "source": []
  },
  {
   "cell_type": "code",
   "execution_count": null,
   "metadata": {},
   "outputs": [],
   "source": []
  },
  {
   "cell_type": "code",
   "execution_count": null,
   "metadata": {},
   "outputs": [],
   "source": []
  },
  {
   "cell_type": "code",
   "execution_count": null,
   "metadata": {},
   "outputs": [],
   "source": []
  },
  {
   "cell_type": "code",
   "execution_count": null,
   "metadata": {},
   "outputs": [],
   "source": []
  },
  {
   "cell_type": "code",
   "execution_count": null,
   "metadata": {},
   "outputs": [],
   "source": []
  },
  {
   "cell_type": "code",
   "execution_count": null,
   "metadata": {},
   "outputs": [],
   "source": []
  },
  {
   "cell_type": "code",
   "execution_count": null,
   "metadata": {},
   "outputs": [],
   "source": []
  },
  {
   "cell_type": "code",
   "execution_count": null,
   "metadata": {},
   "outputs": [],
   "source": []
  }
 ]
}